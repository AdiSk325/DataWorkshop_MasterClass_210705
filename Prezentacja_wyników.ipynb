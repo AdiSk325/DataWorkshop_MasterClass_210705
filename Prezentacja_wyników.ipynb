{
 "cells": [
  {
   "cell_type": "markdown",
   "id": "interior-vietnamese",
   "metadata": {},
   "source": [
    " \n",
    " "
   ]
  },
  {
   "cell_type": "markdown",
   "id": "honey-giving",
   "metadata": {},
   "source": [
    " \n",
    " "
   ]
  },
  {
   "cell_type": "markdown",
   "id": "valid-adrian",
   "metadata": {},
   "source": [
    " \n",
    " "
   ]
  },
  {
   "cell_type": "markdown",
   "id": "numerical-contractor",
   "metadata": {},
   "source": [
    " \n",
    " "
   ]
  },
  {
   "cell_type": "markdown",
   "id": "worse-virtue",
   "metadata": {},
   "source": [
    " \n",
    " "
   ]
  },
  {
   "cell_type": "markdown",
   "id": "technological-education",
   "metadata": {},
   "source": [
    " \n",
    " "
   ]
  },
  {
   "cell_type": "markdown",
   "id": "generic-consensus",
   "metadata": {},
   "source": [
    "# DataWorkshop Master Class\n",
    "## Adrian Skutnik"
   ]
  },
  {
   "cell_type": "markdown",
   "id": "charitable-preliminary",
   "metadata": {},
   "source": [
    "*Miejsce 4. z wynikiem:* **2.14155**"
   ]
  },
  {
   "cell_type": "markdown",
   "id": "needed-prerequisite",
   "metadata": {},
   "source": [
    "# 1. Krótko o sobie\n",
    "\n",
    "* 4 lata w Santander Bank Polska \n",
    "    * Analityk danych w Pionie Zarządzania Ryzykiem. \n",
    "    * Głównie SQL, MS Excel, Jupyter Notebook jako wizualizacja danych.\n",
    "* Wokół ML krążę, zarówno prywatnie, jak i zawodowo, ale na co dzień nie modeluję :("
   ]
  },
  {
   "cell_type": "markdown",
   "id": "portuguese-hierarchy",
   "metadata": {},
   "source": [
    " "
   ]
  },
  {
   "cell_type": "markdown",
   "id": "mexican-andorra",
   "metadata": {},
   "source": [
    " \n",
    " "
   ]
  },
  {
   "cell_type": "markdown",
   "id": "serial-phenomenon",
   "metadata": {},
   "source": [
    " \n",
    " "
   ]
  },
  {
   "cell_type": "markdown",
   "id": "romance-planning",
   "metadata": {},
   "source": [
    " \n",
    " "
   ]
  },
  {
   "cell_type": "markdown",
   "id": "appreciated-battery",
   "metadata": {},
   "source": [
    " \n",
    " "
   ]
  },
  {
   "cell_type": "markdown",
   "id": "neutral-corpus",
   "metadata": {},
   "source": [
    " \n",
    " "
   ]
  },
  {
   "cell_type": "markdown",
   "id": "herbal-classroom",
   "metadata": {},
   "source": [
    " \n",
    " "
   ]
  },
  {
   "cell_type": "markdown",
   "id": "weird-encyclopedia",
   "metadata": {},
   "source": [
    " \n",
    " "
   ]
  },
  {
   "cell_type": "markdown",
   "id": "demonstrated-contemporary",
   "metadata": {},
   "source": [
    " \n",
    " "
   ]
  },
  {
   "cell_type": "markdown",
   "id": "moving-chosen",
   "metadata": {},
   "source": [
    " \n",
    " "
   ]
  },
  {
   "cell_type": "markdown",
   "id": "minute-washer",
   "metadata": {},
   "source": [
    " "
   ]
  },
  {
   "cell_type": "markdown",
   "id": "lucky-classification",
   "metadata": {},
   "source": [
    " "
   ]
  },
  {
   "cell_type": "markdown",
   "id": "tested-repeat",
   "metadata": {},
   "source": [
    " "
   ]
  },
  {
   "cell_type": "markdown",
   "id": "significant-radio",
   "metadata": {},
   "source": [
    " "
   ]
  },
  {
   "cell_type": "markdown",
   "id": "charitable-jordan",
   "metadata": {},
   "source": [
    " "
   ]
  },
  {
   "cell_type": "markdown",
   "id": "emotional-polyester",
   "metadata": {},
   "source": [
    "\n",
    "\n",
    "\n",
    "\n",
    "\n",
    "\n",
    "\n"
   ]
  },
  {
   "cell_type": "markdown",
   "id": "afraid-keeping",
   "metadata": {},
   "source": [
    "# 2. Jak się za to zabrać? "
   ]
  },
  {
   "cell_type": "markdown",
   "id": "tired-semiconductor",
   "metadata": {},
   "source": [
    "![](3_pliki.png)"
   ]
  },
  {
   "cell_type": "markdown",
   "id": "tender-portfolio",
   "metadata": {},
   "source": [
    "**1. Preprocessing danych** – przetworzenie zmiennych słownikowych, wektorowych na odrębne kolumny.\n",
    "\n",
    "**2. Feature engineering**  – Tu działo się najwięcej:\n",
    "\n",
    "> * Zamiana zmiennych powierzchni na float64\n",
    "> * najpierw zwykły factorize zmiennych kategorycznych ...\n",
    "> * … a następnie szeregowanie zmiennych kategorycznych"
   ]
  },
  {
   "cell_type": "markdown",
   "id": "sublime-excess",
   "metadata": {},
   "source": [
    " "
   ]
  },
  {
   "cell_type": "markdown",
   "id": "changing-macro",
   "metadata": {},
   "source": [
    "![](factorize.png) "
   ]
  },
  {
   "cell_type": "code",
   "execution_count": 1,
   "id": "hairy-friend",
   "metadata": {},
   "outputs": [],
   "source": [
    "def replace_factor_by_stat(df, char_name, stat_name, price):\n",
    "    \"Zastępuję losowy faktor statystyką dla danej cechy\"\n",
    "    \n",
    "    price_stat = df[price].agg(stat_name)\n",
    "    \n",
    "    keys = pd.pivot_table(df, index=[char_name], values=[price], aggfunc=[stat_name]).index\n",
    "    values = pd.pivot_table(df, index=[char_name], values=[price], aggfunc=[stat_name])[(stat_name,price)]\n",
    "    char_stat_map = defaultdict(lambda: price_stat,zip(keys, values))\n",
    "    \n",
    "    df['{}_repl_{}'.format(char_name, stat_name)] = df[char_name].apply(lambda x: char_stat_map[x]) \n",
    "    print('New column in df: {}_repl_{}'.format(char_name, stat_name))\n",
    "    \n",
    "    return df   "
   ]
  },
  {
   "cell_type": "markdown",
   "id": "isolated-passage",
   "metadata": {},
   "source": [
    " "
   ]
  },
  {
   "cell_type": "markdown",
   "id": "complicated-cookie",
   "metadata": {},
   "source": [
    " "
   ]
  },
  {
   "cell_type": "markdown",
   "id": "fifth-usage",
   "metadata": {},
   "source": [
    " "
   ]
  },
  {
   "cell_type": "markdown",
   "id": "simple-portland",
   "metadata": {},
   "source": [
    " "
   ]
  },
  {
   "cell_type": "markdown",
   "id": "caroline-portsmouth",
   "metadata": {},
   "source": [
    " "
   ]
  },
  {
   "cell_type": "markdown",
   "id": "obvious-stuff",
   "metadata": {},
   "source": [
    " "
   ]
  },
  {
   "cell_type": "markdown",
   "id": "uniform-daisy",
   "metadata": {},
   "source": [
    " "
   ]
  },
  {
   "cell_type": "markdown",
   "id": "lasting-knight",
   "metadata": {},
   "source": [
    " "
   ]
  },
  {
   "cell_type": "markdown",
   "id": "damaged-tobago",
   "metadata": {},
   "source": [
    " "
   ]
  },
  {
   "cell_type": "markdown",
   "id": "widespread-major",
   "metadata": {},
   "source": [
    " "
   ]
  },
  {
   "cell_type": "markdown",
   "id": "german-trinidad",
   "metadata": {},
   "source": [
    "* **Wreszcie, największy postęp to modelowanie zmiennej cena za metr, a nie samej ceny!**"
   ]
  },
  {
   "cell_type": "markdown",
   "id": "specialized-belly",
   "metadata": {},
   "source": [
    "![](cena.png)"
   ]
  },
  {
   "cell_type": "markdown",
   "id": "diverse-isolation",
   "metadata": {},
   "source": [
    "![](cena_za_metr.png)"
   ]
  },
  {
   "cell_type": "markdown",
   "id": "rocky-cowboy",
   "metadata": {},
   "source": [
    "**3. Modelowanie**\n",
    "\n",
    "> * Dodatkowo zlogarytmowanie zmiennej price_per_m2\n",
    "> * Dodanie zmiennych losowych i sprzątanie zbędnych zmiennych"
   ]
  },
  {
   "cell_type": "markdown",
   "id": "terminal-jurisdiction",
   "metadata": {},
   "source": [
    "![](log_cena_za_metr.png)"
   ]
  },
  {
   "cell_type": "code",
   "execution_count": null,
   "id": "absolute-poetry",
   "metadata": {},
   "outputs": [],
   "source": [
    "for i in range(5):\n",
    "    df['random_{}'.format(i)] = np.random.normal(size=len(df))\n",
    "    feats.append('random_{}'.format(i))   "
   ]
  },
  {
   "cell_type": "markdown",
   "id": "recreational-thumb",
   "metadata": {},
   "source": [
    "> Ramka na wejściu zawierała **219 zmiennych**    \n",
    "> Modelowanie ostatecznie na **83 zmiennych**"
   ]
  },
  {
   "cell_type": "code",
   "execution_count": 2,
   "id": "threatened-wrapping",
   "metadata": {},
   "outputs": [],
   "source": [
    "# (2.355716375929465, 0.233763690588422) <-- submit 3 (1.88070)\n",
    "# (2.2888983069605917, 0.27275301838603083) <-- submit 4 (1.86007)\n",
    "# (2.10085497423071, 0.29354647610120993) <-- submit 5 (1.71501)\n",
    "\n",
    "# xgb_params={\n",
    "#   'n_estimators': 350,\n",
    "#   'colsample_bytree': 0.3,\n",
    "#   'learning_rate': 0.05,\n",
    "#   'max_depth': 15,\n",
    "#   'min_child_weight': 3,\n",
    "#   'subsample': 0.75}\n",
    "\n",
    "# (2.031405362730201, 0.27745594834270715) <-- submit 6 (1.68999) oczyszczenie ze zmiennych losowych\n",
    "\n",
    "# xgb_params={\n",
    "#   'n_estimators': 400,\n",
    "#   'colsample_bytree': 0.3,\n",
    "#   'learning_rate': 0.05,\n",
    "#   'max_depth': 15,\n",
    "#   'min_child_weight': 3,\n",
    "#   'subsample': 0.75}\n",
    "\n",
    "# (2.026766325034033, 0.2786812280083919) <-- submit 7 (1.68381) best na ręcznym wyborze parametrów\n",
    "\n",
    "\n",
    "# xgb_params={\n",
    "#     'n_estimators': 350, \n",
    "#     'colsample_bytree': 0.3, \n",
    "#     'learning_rate': 0.075, \n",
    "#     'max_depth': 15, \n",
    "#     'min_child_weight': 6, \n",
    "#     'subsample': 0.85}\n",
    "\n",
    "\n",
    "# (2.0658578335869375, 0.31226221389120995) <-- submit 8 (1.70633) najlepszy z Random Search\n",
    "\n",
    "\n",
    "# xgb_params={\n",
    "#     'n_estimators': 375, \n",
    "#     'colsample_bytree': 0.5, \n",
    "#     'learning_rate': 0.1, \n",
    "#     'max_depth': 15, \n",
    "#     'min_child_weight': 8, \n",
    "#     'subsample': 0.95}\n",
    "\n",
    "# (2.0983975078759416, 0.27381624010553185) <-- submit 9 (1.70633) (prawie) najstabilniejszy z Random Search"
   ]
  },
  {
   "cell_type": "markdown",
   "id": "stylish-maine",
   "metadata": {},
   "source": [
    "# 4 Bolączki!\n",
    "\n",
    "> * Brak czasu :( Przy modelowaniu zawsze można znaleźć jeszcze lepsze ścieżki\n",
    "> * Dziury w pamięci (od podstawowych funkcji pandas'a do GridSearch'a i hyperopt'a)\n",
    "> * Szukanie w oczywistościach nie przynosi efektów: data publikacji ogłoszenia"
   ]
  },
  {
   "cell_type": "code",
   "execution_count": 3,
   "id": "united-difference",
   "metadata": {},
   "outputs": [],
   "source": [
    "date_map = {'января': 1,\n",
    "            'февраля':2,\n",
    "           'марта': 3,\n",
    "           'апреля': 4,\n",
    "           'мая': 5,\n",
    "           'июня': 6,\n",
    "           'июля':7,\n",
    "           'августа': 8,\n",
    "           'сентября': 9,\n",
    "           'октября': 10,\n",
    "           'ноября': 11,\n",
    "           'декабря': 12}"
   ]
  },
  {
   "cell_type": "code",
   "execution_count": null,
   "id": "infinite-defense",
   "metadata": {},
   "outputs": [],
   "source": [
    "df['is_today'] = df['Дата публикации:'].map(lambda x: 'сегодня' in x).map(int)\n",
    "df['is_yesterday'] = df['Дата публикации:'].map(lambda x: 'вчера' in x).map(int)\n",
    "\n",
    "df['today_time'] = df.loc[df['is_today']==1, 'Дата публикации:'].map(lambda x: datetime.strptime(x[-5:], '%H:%M'))\n",
    "df['yesterday_time'] = df.loc[df['is_yesterday']==1, 'Дата публикации:'].map(lambda x: datetime.strptime(x[-5:], '%H:%M'))\n",
    "\n",
    "df.loc[df['is_today']==1, 'Дата публикации:']  = ''\n",
    "df.loc[df['is_yesterday']==1, 'Дата публикации:']  = ''\n",
    "\n",
    "def convert_date(date_str): \n",
    "    \n",
    "    date_lst = date_str.split(' ')\n",
    "    \n",
    "    if len(date_lst) == 0:\n",
    "        date = ''\n",
    "    \n",
    "    \n",
    "    if len(date_lst) == 2:\n",
    "        date_lst[0] = date_lst[0]\n",
    "        date_lst[1] = str(date_map[date_lst[1]])\n",
    "        date_lst.append('2019')\n",
    "        \n",
    "        date = datetime.strptime('/'.join(date_lst), '%d/%m/%Y')\n",
    "        return date\n",
    " \n",
    "        \n",
    "        \n",
    "    if len(date_lst) == 3:\n",
    "        date_lst[0] = date_lst[0]\n",
    "        date_lst[1] = str(date_map[date_lst[1]])\n",
    "                \n",
    "        date = datetime.strptime('/'.join(date_lst), '%d/%m/%Y')\n",
    "    \n",
    "    \n",
    "\n",
    "convert_date(df['Дата публикации:'][4])\n",
    "\n",
    "df['publish_date'].max()\n",
    "\n",
    "pd.Timestamp('2019-05-18 00:00:00')\n",
    "\n",
    "df.loc[df['is_today']==1, 'publish_date'] = pd.Timestamp('2019-05-20 00:00:00')\n",
    "df.loc[df['is_yesterday']==1, 'publish_date'] = pd.Timestamp('2019-05-19 00:00:00')\n",
    "\n",
    "def convert_date_to_days(publish_date):\n",
    "    \n",
    "    try:\n",
    "        return (date(2019,5,20) - publish_date.date()).days\n",
    "    except:\n",
    "        return -1\n",
    "        \n",
    "df['publish_days'] = df['publish_date'].map(convert_date_to_days)"
   ]
  },
  {
   "cell_type": "markdown",
   "id": "warming-september",
   "metadata": {},
   "source": [
    "![](cena_od_dnia.png)"
   ]
  },
  {
   "cell_type": "markdown",
   "id": "proprietary-receiver",
   "metadata": {},
   "source": [
    "# 5 Delta rozwoju\n",
    "\n",
    "> * Porządkowanie i jakość kodu - nic odkrywczego, a jednak...\n",
    "> * Wiedza i doświadczenie w domenie jednak się przydaje\n",
    "> * Feature engineering ma moc! :) "
   ]
  },
  {
   "cell_type": "markdown",
   "id": "systematic-bottle",
   "metadata": {},
   "source": [
    "# Dziękuję!!! "
   ]
  }
 ],
 "metadata": {
  "kernelspec": {
   "display_name": "Python 3",
   "language": "python",
   "name": "python3"
  },
  "language_info": {
   "codemirror_mode": {
    "name": "ipython",
    "version": 3
   },
   "file_extension": ".py",
   "mimetype": "text/x-python",
   "name": "python",
   "nbconvert_exporter": "python",
   "pygments_lexer": "ipython3",
   "version": "3.8.6"
  }
 },
 "nbformat": 4,
 "nbformat_minor": 5
}
