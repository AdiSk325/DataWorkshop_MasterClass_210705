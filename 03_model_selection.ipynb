{
 "cells": [
  {
   "cell_type": "code",
   "execution_count": null,
   "id": "physical-range",
   "metadata": {},
   "outputs": [],
   "source": [
    "import pandas as pd\n",
    "import numpy as np\n",
    "import random\n",
    "\n",
    "import matplotlib.pyplot as plt\n",
    "\n",
    "from tqdm import tqdm\n",
    "import time\n",
    "\n",
    "import helper as h\n",
    "import utils as u\n",
    "\n",
    "from sklearn.tree import DecisionTreeRegressor\n",
    "import xgboost as xgb\n",
    "\n",
    "from sklearn.metrics import mean_absolute_error as mae\n",
    "from sklearn.model_selection import cross_val_score, train_test_split, KFold\n",
    "\n",
    "from itertools import product\n",
    "import eli5\n",
    "from tqdm import tqdm\n",
    "\n",
    "import gc\n",
    "from datetime import datetime"
   ]
  },
  {
   "cell_type": "code",
   "execution_count": null,
   "id": "substantial-catch",
   "metadata": {
    "scrolled": true
   },
   "outputs": [],
   "source": [
    "df_train = pd.read_csv(\"../interim/02_train_data.csv\", sep='|')\n",
    "df_test = pd.read_csv(\"../interim/02_test_data.csv\", sep='|')"
   ]
  },
  {
   "cell_type": "code",
   "execution_count": null,
   "id": "moderate-provider",
   "metadata": {},
   "outputs": [],
   "source": [
    "df = pd.concat([df_train, df_test])\n",
    "# Indeksy są od 0 w obu ramkach, więc muszę zrobić reset\n",
    "df.reset_index(drop=True, inplace=True)\n",
    "print(df.shape)"
   ]
  },
  {
   "cell_type": "markdown",
   "id": "liberal-portugal",
   "metadata": {},
   "source": [
    "### Wybór cech do modelowania"
   ]
  },
  {
   "cell_type": "code",
   "execution_count": null,
   "id": "otherwise-banks",
   "metadata": {},
   "outputs": [],
   "source": [
    "feats = [x for x in df_train.columns if \"_cat\" in x]\n",
    "feats += ['Общая площадь:','Высота потолков:', 'Площадь кухни:', 'Жилая комната:']\n",
    "feats += ['flat_floor', 'build_floor', 'floor_rte','if_first_last_floor']\n",
    "feats += [x for x in df if 'agency' in x]\n",
    "feats += [x for x in df if 'repl' in x]\n",
    "feats += ['is_today', 'is_yesterday','publish_days']"
   ]
  },
  {
   "cell_type": "markdown",
   "id": "requested-camping",
   "metadata": {},
   "source": [
    "### Wybór (ew. przekształcenie) zmiennej celu"
   ]
  },
  {
   "cell_type": "code",
   "execution_count": null,
   "id": "gorgeous-poker",
   "metadata": {},
   "outputs": [],
   "source": [
    "price = 'price_per_m2'\n",
    "df['log_price_per_m2'] = np.log(df[price])\n",
    "\n",
    "price = 'log_price_per_m2'"
   ]
  },
  {
   "cell_type": "markdown",
   "id": "smaller-improvement",
   "metadata": {},
   "source": [
    "### Dodanie cech randomowych (dla odcięcia zbędnych cech) "
   ]
  },
  {
   "cell_type": "code",
   "execution_count": null,
   "id": "otherwise-mitchell",
   "metadata": {},
   "outputs": [],
   "source": [
    "for i in range(5):\n",
    "    df['random_{}'.format(i)] = np.random.normal(size=len(df))\n",
    "    feats.append('random_{}'.format(i))    "
   ]
  },
  {
   "cell_type": "code",
   "execution_count": null,
   "id": "compound-binary",
   "metadata": {},
   "outputs": [],
   "source": [
    "col_to_drop = ['breadcrumbs_0_repl_count',\n",
    " 'breadcrumbs_2_repl_count',\n",
    " 'breadcrumbs_3_cat',\n",
    " 'breadcrumbs_4_cat',\n",
    " 'breadcrumbs_4_repl_count',\n",
    " 'date_0_cat',\n",
    " 'date_1_cat',\n",
    " 'date_2_cat',\n",
    " 'date_3_cat',\n",
    " 'geo_block_0_repl_count',\n",
    " 'geo_block_2_cat',\n",
    " 'geo_block_2_repl_count',\n",
    " 'geo_block_3_cat',\n",
    " 'geo_block_4_cat',\n",
    " 'geo_block_4_repl_count',\n",
    " 'geo_block_4_repl_mean',\n",
    " 'geo_block_4_repl_median',\n",
    " 'Адрес:_13_cat',\n",
    " 'Адрес:_13_repl_count',\n",
    " 'Адрес:_13_repl_mean',\n",
    " 'Адрес:_13_repl_median',\n",
    " 'Адрес:_7_cat',\n",
    " 'Адрес:_8_cat',\n",
    " 'Адрес:_9_cat',\n",
    " 'Дата  обновления:_cat',\n",
    " 'Дата публикации:_cat',\n",
    " 'Детская площадка:_cat',\n",
    " 'Лифт:_cat',\n",
    " 'Мусоропровод:_cat',\n",
    " 'Площадь кухни:',\n",
    " 'Серия:_cat',\n",
    " 'Тип балкона:_repl_count',\n",
    " 'Тип балкона:_repl_mean',\n",
    " 'Тип балкона:_repl_median',\n",
    " 'Тип дома:_cat',\n",
    " 'Тип комнат:_cat',\n",
    " 'Тип фундамента:_cat',\n",
    " 'Управляющая компания:_cat']"
   ]
  },
  {
   "cell_type": "code",
   "execution_count": null,
   "id": "silent-skill",
   "metadata": {},
   "outputs": [],
   "source": [
    "col_to_drop += ['breadcrumbs_0_cat', 'Возможна ипотека:_cat', 'Адрес:_11_cat','Стиральная машина:_repl_count']\n",
    "col_to_drop += ['is_today', 'random_0', 'random_1', 'random_2', 'random_3', 'random_4']"
   ]
  },
  {
   "cell_type": "code",
   "execution_count": null,
   "id": "fallen-andrew",
   "metadata": {},
   "outputs": [],
   "source": [
    "for col in col_to_drop:\n",
    "    feats.remove(col)"
   ]
  },
  {
   "cell_type": "markdown",
   "id": "married-netherlands",
   "metadata": {},
   "source": [
    "## Modelowanie"
   ]
  },
  {
   "cell_type": "code",
   "execution_count": null,
   "id": "cellular-independence",
   "metadata": {
    "scrolled": true
   },
   "outputs": [],
   "source": [
    "model = DecisionTreeRegressor(max_depth=20)\n",
    "u.check_model(df, feats, price, model, orig_price_trans=u.log_price_factr_area_trans)"
   ]
  },
  {
   "cell_type": "code",
   "execution_count": null,
   "id": "educated-personal",
   "metadata": {},
   "outputs": [],
   "source": [
    "xgb_params={'n_estimators': 375, 'colsample_bytree': 0.5, 'learning_rate': 0.1, 'max_depth': 15, 'min_child_weight': 8, 'subsample': 0.95}\n",
    "\n",
    "model = xgb.XGBRegressor(**xgb_params)\n",
    "u.check_model(df, feats, price, model, n_splits=5, orig_price_trans=u.log_price_factr_area_trans)"
   ]
  },
  {
   "cell_type": "code",
   "execution_count": null,
   "id": "animal-devil",
   "metadata": {},
   "outputs": [],
   "source": [
    "# (2.355716375929465, 0.233763690588422) <-- submit 3 (1.88070)\n",
    "# (2.2888983069605917, 0.27275301838603083) <-- submit 4 (1.86007)\n",
    "# (2.10085497423071, 0.29354647610120993) <-- submit 5 (1.71501)\n",
    "\n",
    "# xgb_params={\n",
    "#   'n_estimators': 350,\n",
    "#   'colsample_bytree': 0.3,\n",
    "#   'learning_rate': 0.05,\n",
    "#   'max_depth': 15,\n",
    "#   'min_child_weight': 3,\n",
    "#   'subsample': 0.75}\n",
    "\n",
    "# (2.031405362730201, 0.27745594834270715) <-- submit 6 (1.68999) oczyszczenie ze zmiennych losowych\n",
    "\n",
    "# xgb_params={\n",
    "#   'n_estimators': 400,\n",
    "#   'colsample_bytree': 0.3,\n",
    "#   'learning_rate': 0.05,\n",
    "#   'max_depth': 15,\n",
    "#   'min_child_weight': 3,\n",
    "#   'subsample': 0.75}\n",
    "\n",
    "# (2.026766325034033, 0.2786812280083919) <-- submit 7 (1.68381) best na ręcznym wyborze parametrów\n",
    "\n",
    "\n",
    "# xgb_params={\n",
    "#     'n_estimators': 350, \n",
    "#     'colsample_bytree': 0.3, \n",
    "#     'learning_rate': 0.075, \n",
    "#     'max_depth': 15, \n",
    "#     'min_child_weight': 6, \n",
    "#     'subsample': 0.85}\n",
    "\n",
    "\n",
    "# (2.0658578335869375, 0.31226221389120995) <-- submit 8 (1.70633) najlepszy z Random Search\n",
    "\n",
    "\n",
    "# xgb_params={\n",
    "#     'n_estimators': 375, \n",
    "#     'colsample_bytree': 0.5, \n",
    "#     'learning_rate': 0.1, \n",
    "#     'max_depth': 15, \n",
    "#     'min_child_weight': 8, \n",
    "#     'subsample': 0.95}\n",
    "\n",
    "# (2.0983975078759416, 0.27381624010553185) <-- submit 9 (1.70633) (prawie) najstabilniejszy z Random Search"
   ]
  },
  {
   "cell_type": "code",
   "execution_count": null,
   "id": "crucial-importance",
   "metadata": {},
   "outputs": [],
   "source": [
    "feat_imprt = pd.DataFrame(index = model.get_booster().feature_names, data= model.feature_importances_)\n",
    "feat_imprt.columns = ['feat_importance']"
   ]
  },
  {
   "cell_type": "code",
   "execution_count": null,
   "id": "satisfied-congo",
   "metadata": {
    "scrolled": true
   },
   "outputs": [],
   "source": [
    "feat_imprt.sort_values('feat_importance', ascending=False).head()"
   ]
  },
  {
   "cell_type": "code",
   "execution_count": null,
   "id": "pharmaceutical-andorra",
   "metadata": {},
   "outputs": [],
   "source": [
    "# col_to_drop = feat_imprt[feat_imprt['feat_importance'] <= feat_imprt.iloc[-5:].max().values[0]].index"
   ]
  },
  {
   "cell_type": "code",
   "execution_count": null,
   "id": "widespread-toyota",
   "metadata": {},
   "outputs": [],
   "source": [
    "eli5.show_weights(model, feature_names=feats)"
   ]
  },
  {
   "cell_type": "code",
   "execution_count": null,
   "id": "restricted-sunglasses",
   "metadata": {
    "scrolled": true
   },
   "outputs": [],
   "source": [
    "X_test = df[df[price].isna()][feats].reset_index(drop=True)\n",
    "y_pred = model.predict(X_test)\n",
    "y_pred = u.log_price_factr_area_trans(y_pred, X_test)\n",
    "\n",
    "now = datetime.now()\n",
    "current_time = now.strftime(\"%D_%H_%M_%S\").replace('/','_')\n",
    "\n",
    "df_test = pd.read_csv(\"../interim/02_test_data.csv\", sep='|')\n",
    "df_test[\"price\"] = y_pred\n",
    "df_test[[\"id\", \"price\"]].to_csv(\"../output/xgb_area_{}.csv\".format(current_time), index=False)"
   ]
  },
  {
   "cell_type": "markdown",
   "id": "disturbed-bacon",
   "metadata": {},
   "source": [
    "### Random search"
   ]
  },
  {
   "cell_type": "code",
   "execution_count": null,
   "id": "interior-picture",
   "metadata": {},
   "outputs": [],
   "source": [
    "xgb_params_space={\n",
    "  'n_estimators': [350, 375, 400, 425, 450, 500],\n",
    "  'colsample_bytree': [0.3, 0.5],\n",
    "  'learning_rate': [0.01, 0.05, 0.075, 0.1, 0.15],\n",
    "  'max_depth': [10,12,15,20],\n",
    "  'min_child_weight': [4,6,8,10],\n",
    "  'subsample': [0.5,0.6,0.75,0.85, 0.95],}"
   ]
  },
  {
   "cell_type": "code",
   "execution_count": null,
   "id": "dominant-confirmation",
   "metadata": {},
   "outputs": [],
   "source": [
    "xgb_params_dicts = []\n",
    "\n",
    "for n_estimators, colsample_bytree, learning_rate, max_depth, min_child_weight, subsample  in product(*xgb_params_space.values()):\n",
    "    \n",
    "    xgb_params_dict={\n",
    "          'n_estimators': n_estimators,\n",
    "          'colsample_bytree': colsample_bytree,\n",
    "          'learning_rate': learning_rate,\n",
    "          'max_depth': max_depth,\n",
    "          'min_child_weight': min_child_weight,\n",
    "          'subsample': subsample}\n",
    "    \n",
    "    xgb_params_dicts.append(xgb_params_dict)"
   ]
  },
  {
   "cell_type": "code",
   "execution_count": null,
   "id": "antique-diagnosis",
   "metadata": {},
   "outputs": [],
   "source": [
    "# (2.026766325034033, 0.2786812280083919) <-- best_score"
   ]
  },
  {
   "cell_type": "code",
   "execution_count": null,
   "id": "cosmetic-lambda",
   "metadata": {},
   "outputs": [],
   "source": [
    "GridSearchResults = pd.DataFrame(columns=['n_estimators', 'colsample_bytree', 'learning_rate', 'max_depth', 'min_child_weight', 'subsample', 'mean_mae', 'std_mae'])\n",
    "for idx in range(30):\n",
    "\n",
    "    xgb_params = random.choice(xgb_params_dicts)\n",
    "    xgb_params_dicts.remove(xgb_params)\n",
    "    \n",
    "    print(idx, xgb_params)\n",
    "    \n",
    "    model = xgb.XGBRegressor(**xgb_params)\n",
    "    mean_mae, std_mae = u.check_model(df, feats, price, model, n_splits=5, orig_price_trans=u.log_price_factr_area_trans)\n",
    "    \n",
    "    print(idx, mean_mae, std_mae)\n",
    "    \n",
    "    GridSearchResults = GridSearchResults.append(pd.DataFrame(data=pd.Series(xgb_params), columns=[idx]).T)\n",
    "    GridSearchResults.loc[idx, 'mean_mae'] = mean_mae\n",
    "    GridSearchResults.loc[idx, 'std_mae'] = std_mae\n",
    "    print(\"It's {}. model ready!\".format(idx))"
   ]
  },
  {
   "cell_type": "code",
   "execution_count": null,
   "id": "wound-cornell",
   "metadata": {},
   "outputs": [],
   "source": [
    "GridSearchResults.sort_values('mean_mae')"
   ]
  }
 ],
 "metadata": {
  "kernelspec": {
   "display_name": "Python 3",
   "language": "python",
   "name": "python3"
  },
  "language_info": {
   "codemirror_mode": {
    "name": "ipython",
    "version": 3
   },
   "file_extension": ".py",
   "mimetype": "text/x-python",
   "name": "python",
   "nbconvert_exporter": "python",
   "pygments_lexer": "ipython3",
   "version": "3.8.6"
  }
 },
 "nbformat": 4,
 "nbformat_minor": 5
}
