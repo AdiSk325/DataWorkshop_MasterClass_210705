{
 "cells": [
  {
   "cell_type": "markdown",
   "id": "middle-lodging",
   "metadata": {},
   "source": [
    "### Import bibliotek"
   ]
  },
  {
   "cell_type": "code",
   "execution_count": 1,
   "id": "missing-indiana",
   "metadata": {},
   "outputs": [],
   "source": [
    "import pandas as pd\n",
    "import numpy as np\n",
    "\n",
    "from tqdm import tqdm\n",
    "import time\n",
    "\n",
    "import utils as u"
   ]
  },
  {
   "cell_type": "markdown",
   "id": "demographic-jordan",
   "metadata": {},
   "source": [
    "### Wczytanie danych"
   ]
  },
  {
   "cell_type": "code",
   "execution_count": 2,
   "id": "abroad-schedule",
   "metadata": {},
   "outputs": [
    {
     "name": "stdout",
     "output_type": "stream",
     "text": [
      "train notna price:  True\n",
      "test is price:  False\n",
      "(34180, 8)\n"
     ]
    },
    {
     "data": {
      "text/plain": [
       "geo_block      object\n",
       "breadcrumbs    object\n",
       "price          object\n",
       "owner          object\n",
       "params         object\n",
       "date           object\n",
       "user_block     object\n",
       "id              int64\n",
       "dtype: object"
      ]
     },
     "execution_count": 2,
     "metadata": {},
     "output_type": "execute_result"
    }
   ],
   "source": [
    "df_train = pd.read_hdf(\"../input/train_data.h5\")\n",
    "df_test = pd.read_hdf(\"../input/test_data.h5\")\n",
    "\n",
    "print('train notna price: ', df_train['price'].notna().all())\n",
    "print('test is price: ', df_train['price'].isna().all())\n",
    "\n",
    "df = pd.concat([df_train, df_test])\n",
    "# Indeksy są od 0 w obu ramkach, więc muszę zrobić reset\n",
    "df.reset_index(drop=True, inplace=True)\n",
    "print(df.shape)\n",
    "df.dtypes"
   ]
  },
  {
   "cell_type": "code",
   "execution_count": 3,
   "id": "republican-corrections",
   "metadata": {},
   "outputs": [],
   "source": [
    "def parse_price(val):\n",
    "    if isinstance(val, str): \n",
    "        if \"₽\" in val:\n",
    "            val = val.split('₽')[0]\n",
    "            \n",
    "        val = val.replace(' ', '')\n",
    "        return int(val) / 1000000\n",
    "    \n",
    "    return float(val)\n",
    "\n",
    "df['price'] = df['price'].map(parse_price)"
   ]
  },
  {
   "cell_type": "markdown",
   "id": "welsh-tongue",
   "metadata": {},
   "source": [
    "### geo_block"
   ]
  },
  {
   "cell_type": "code",
   "execution_count": 4,
   "id": "regular-cutting",
   "metadata": {
    "scrolled": true
   },
   "outputs": [
    {
     "data": {
      "text/plain": [
       "4     16189\n",
       "2      9453\n",
       "6      6158\n",
       "8      2370\n",
       "10        8\n",
       "12        2\n",
       "Name: geo_block, dtype: int64"
      ]
     },
     "execution_count": 4,
     "metadata": {},
     "output_type": "execute_result"
    }
   ],
   "source": [
    "df['geo_block'].apply(lambda x: len(x)).value_counts()"
   ]
  },
  {
   "cell_type": "code",
   "execution_count": 5,
   "id": "potential-drain",
   "metadata": {},
   "outputs": [
    {
     "data": {
      "text/plain": [
       "2    16189\n",
       "1     9453\n",
       "3     6169\n",
       "4     2359\n",
       "5        8\n",
       "6        2\n",
       "Name: geo_block, dtype: int64"
      ]
     },
     "execution_count": 5,
     "metadata": {},
     "output_type": "execute_result"
    }
   ],
   "source": [
    "df['geo_block'].apply(lambda x: len(list(set(x)))).value_counts()"
   ]
  },
  {
   "cell_type": "markdown",
   "id": "western-interference",
   "metadata": {},
   "source": [
    "**Usunięcie duplikatów i utworzenie 5 nowych kolumn z danymi geo**"
   ]
  },
  {
   "cell_type": "code",
   "execution_count": 6,
   "id": "experienced-islam",
   "metadata": {},
   "outputs": [],
   "source": [
    "df['geo_block_len'] = df['geo_block'].apply(lambda x: len(list(set(x))))"
   ]
  },
  {
   "cell_type": "code",
   "execution_count": 8,
   "id": "raised-telling",
   "metadata": {},
   "outputs": [],
   "source": [
    "for idx in range(5):\n",
    "    df[f'geo_block_{idx}'] = df['geo_block'].apply(lambda x: u.get_list_el(list(set(x)),idx))\n",
    "    \n",
    "df.drop(columns='geo_block', inplace=True)"
   ]
  },
  {
   "cell_type": "markdown",
   "id": "small-collins",
   "metadata": {},
   "source": [
    "### breadcrumbs    "
   ]
  },
  {
   "cell_type": "code",
   "execution_count": 9,
   "id": "abandoned-writing",
   "metadata": {
    "scrolled": true
   },
   "outputs": [
    {
     "data": {
      "text/plain": [
       "4    13522\n",
       "2     8481\n",
       "5     5171\n",
       "3     4415\n",
       "7     2124\n",
       "1      386\n",
       "6       78\n",
       "8        3\n",
       "Name: breadcrumbs, dtype: int64"
      ]
     },
     "execution_count": 9,
     "metadata": {},
     "output_type": "execute_result"
    }
   ],
   "source": [
    "df['breadcrumbs'].apply(lambda x: len(x)).value_counts()"
   ]
  },
  {
   "cell_type": "code",
   "execution_count": 10,
   "id": "olive-yesterday",
   "metadata": {
    "scrolled": true
   },
   "outputs": [
    {
     "data": {
      "text/plain": [
       "4    13522\n",
       "2     8481\n",
       "5     5171\n",
       "3     4415\n",
       "7     2113\n",
       "1      386\n",
       "6       89\n",
       "8        3\n",
       "Name: breadcrumbs, dtype: int64"
      ]
     },
     "execution_count": 10,
     "metadata": {},
     "output_type": "execute_result"
    }
   ],
   "source": [
    "df['breadcrumbs'].apply(lambda x: len(list(set(x)))).value_counts()"
   ]
  },
  {
   "cell_type": "markdown",
   "id": "organic-footwear",
   "metadata": {},
   "source": [
    "**utworzenie 8 nowych kolumn z danymi breadcrumbs**"
   ]
  },
  {
   "cell_type": "code",
   "execution_count": 11,
   "id": "needed-tiger",
   "metadata": {},
   "outputs": [],
   "source": [
    "df['breadcrumbs_len'] = df['breadcrumbs'].apply(lambda x: len(list(set(x))))"
   ]
  },
  {
   "cell_type": "code",
   "execution_count": 13,
   "id": "conventional-regular",
   "metadata": {},
   "outputs": [],
   "source": [
    "for idx in range(5):\n",
    "    df[f'breadcrumbs_{idx}'] = df['breadcrumbs'].apply(lambda x: u.get_list_el(list(set(x)),idx))\n",
    "    \n",
    "df.drop(columns='breadcrumbs', inplace=True)"
   ]
  },
  {
   "cell_type": "markdown",
   "id": "straight-marker",
   "metadata": {},
   "source": [
    "### owner          "
   ]
  },
  {
   "cell_type": "code",
   "execution_count": 14,
   "id": "growing-anchor",
   "metadata": {
    "scrolled": true
   },
   "outputs": [
    {
     "data": {
      "text/plain": [
       "0    30647\n",
       "1     3533\n",
       "Name: owner, dtype: int64"
      ]
     },
     "execution_count": 14,
     "metadata": {},
     "output_type": "execute_result"
    }
   ],
   "source": [
    "df['owner'].apply(lambda x: len(x)).value_counts()"
   ]
  },
  {
   "cell_type": "code",
   "execution_count": 15,
   "id": "blocked-gender",
   "metadata": {
    "scrolled": true
   },
   "outputs": [
    {
     "data": {
      "text/plain": [
       "0    30647\n",
       "1     3533\n",
       "Name: owner, dtype: int64"
      ]
     },
     "execution_count": 15,
     "metadata": {},
     "output_type": "execute_result"
    }
   ],
   "source": [
    "df['owner'].apply(lambda x: len(list(set(x)))).value_counts()"
   ]
  },
  {
   "cell_type": "markdown",
   "id": "prime-phoenix",
   "metadata": {},
   "source": [
    "**utworzenie kolumny z nazwą właściciela**"
   ]
  },
  {
   "cell_type": "code",
   "execution_count": 16,
   "id": "potential-horizon",
   "metadata": {},
   "outputs": [],
   "source": [
    "df['owner_len'] = df['owner'].apply(lambda x: len(list(set(x))))\n",
    "\n",
    "df['owner_name'] = df['owner'].apply(lambda x: u.get_list_el(list(set(x)),0))\n",
    "df.drop(columns='owner', inplace=True)"
   ]
  },
  {
   "cell_type": "markdown",
   "id": "cordless-tender",
   "metadata": {},
   "source": [
    "### date    "
   ]
  },
  {
   "cell_type": "code",
   "execution_count": 17,
   "id": "weird-display",
   "metadata": {
    "scrolled": true
   },
   "outputs": [
    {
     "data": {
      "text/plain": [
       "4    27282\n",
       "3     6853\n",
       "2       45\n",
       "Name: date, dtype: int64"
      ]
     },
     "execution_count": 17,
     "metadata": {},
     "output_type": "execute_result"
    }
   ],
   "source": [
    "df['date'].apply(lambda x: len(x)).value_counts()"
   ]
  },
  {
   "cell_type": "markdown",
   "id": "national-indicator",
   "metadata": {},
   "source": [
    "**utworzenie 4 nowych kolumn z danymi datowymi**"
   ]
  },
  {
   "cell_type": "code",
   "execution_count": 18,
   "id": "homeless-warrant",
   "metadata": {},
   "outputs": [],
   "source": [
    "df['date_len'] = df['date'].apply(lambda x: len(list(set(x))))"
   ]
  },
  {
   "cell_type": "code",
   "execution_count": 19,
   "id": "pharmaceutical-telescope",
   "metadata": {},
   "outputs": [],
   "source": [
    "for idx in range(4):\n",
    "    df[f'date_{idx}'] = df['date'].apply(lambda x: u.get_list_el(list(set(x)),idx))\n",
    "    \n",
    "df.drop(columns='date', inplace=True)"
   ]
  },
  {
   "cell_type": "markdown",
   "id": "psychological-working",
   "metadata": {},
   "source": [
    "### user_block    "
   ]
  },
  {
   "cell_type": "code",
   "execution_count": 20,
   "id": "lightweight-still",
   "metadata": {
    "scrolled": true
   },
   "outputs": [
    {
     "data": {
      "text/plain": [
       "2    30637\n",
       "0     3543\n",
       "Name: user_block, dtype: int64"
      ]
     },
     "execution_count": 20,
     "metadata": {},
     "output_type": "execute_result"
    }
   ],
   "source": [
    "df['user_block'].apply(lambda x: len(x)).value_counts()"
   ]
  },
  {
   "cell_type": "markdown",
   "id": "native-curtis",
   "metadata": {},
   "source": [
    "**utworzenie 2 nowych kolumn z danymi user_block**"
   ]
  },
  {
   "cell_type": "code",
   "execution_count": 21,
   "id": "charming-premiere",
   "metadata": {},
   "outputs": [],
   "source": [
    "df['user_block_len'] = df['user_block'].apply(lambda x: len(list(set(x))))"
   ]
  },
  {
   "cell_type": "code",
   "execution_count": 22,
   "id": "challenging-warner",
   "metadata": {},
   "outputs": [],
   "source": [
    "for idx in range(2):\n",
    "    df[f'user_block_{idx}'] = df['user_block'].apply(lambda x: u.get_list_el(list(set(x)),idx))\n",
    "    \n",
    "df.drop(columns='user_block', inplace=True)"
   ]
  },
  {
   "cell_type": "markdown",
   "id": "complex-deadline",
   "metadata": {},
   "source": [
    "### params"
   ]
  },
  {
   "cell_type": "code",
   "execution_count": 23,
   "id": "common-beverage",
   "metadata": {},
   "outputs": [],
   "source": [
    "params = df[\"params\"].apply(pd.Series)\n",
    "params = params.fillna(-1)\n",
    "\n",
    "if \"Охрана:\" not in df:\n",
    "    df = pd.concat([df, params], axis=1)"
   ]
  },
  {
   "cell_type": "code",
   "execution_count": 24,
   "id": "substantial-hamburg",
   "metadata": {},
   "outputs": [],
   "source": [
    "df.drop(columns='params', inplace=True)"
   ]
  },
  {
   "cell_type": "markdown",
   "id": "dynamic-beginning",
   "metadata": {},
   "source": [
    "### adres\n"
   ]
  },
  {
   "cell_type": "code",
   "execution_count": 25,
   "id": "arabic-uncle",
   "metadata": {
    "scrolled": true
   },
   "outputs": [],
   "source": [
    "df['Адрес:'].nunique()\n",
    "\n",
    "def split_str_list(string, sep):\n",
    "    \n",
    "    try:\n",
    "        return string.split(sep)\n",
    "    except: \n",
    "        return None\n",
    "\n",
    "df['Адрес:'] = df['Адрес:'].apply(lambda x: split_str_list(x,','))"
   ]
  },
  {
   "cell_type": "code",
   "execution_count": 26,
   "id": "typical-amsterdam",
   "metadata": {
    "scrolled": true
   },
   "outputs": [
    {
     "data": {
      "text/plain": [
       "1     26866\n",
       "3      2192\n",
       "4      1944\n",
       "5      1717\n",
       "6       730\n",
       "7       259\n",
       "2       245\n",
       "12       97\n",
       "8        83\n",
       "15       39\n",
       "9         4\n",
       "10        2\n",
       "21        1\n",
       "11        1\n",
       "Name: Адрес:, dtype: int64"
      ]
     },
     "execution_count": 26,
     "metadata": {},
     "output_type": "execute_result"
    }
   ],
   "source": [
    "df['Адрес:'].apply(lambda x: len(x)).value_counts()"
   ]
  },
  {
   "cell_type": "markdown",
   "id": "embedded-mileage",
   "metadata": {},
   "source": [
    "**utworzenie 15 nowych kolumn z rozdzielonym adresem**"
   ]
  },
  {
   "cell_type": "code",
   "execution_count": 27,
   "id": "crucial-perfume",
   "metadata": {},
   "outputs": [],
   "source": [
    "df['Адрес:_len'] = df['Адрес:'].apply(lambda x: len(list(set(x))))"
   ]
  },
  {
   "cell_type": "code",
   "execution_count": 29,
   "id": "medieval-morrison",
   "metadata": {},
   "outputs": [],
   "source": [
    "for idx in range(15):\n",
    "    df[f'Адрес:_{idx}'] = df['Адрес:'].apply(lambda x: u.get_list_el(list(set(x)),idx))\n",
    "    \n",
    "df.drop(columns='Адрес:', inplace=True)"
   ]
  },
  {
   "cell_type": "code",
   "execution_count": 30,
   "id": "combined-disposition",
   "metadata": {},
   "outputs": [],
   "source": [
    "df[df.price.notna()].to_csv(\"../interim/01_train_data.csv\", sep='|', index=False)\n",
    "df[df.price.isna()].to_csv(\"../interim/01_test_data.csv\", sep='|', index=False)"
   ]
  },
  {
   "cell_type": "markdown",
   "id": "bigger-nylon",
   "metadata": {},
   "source": [
    "## KONIEC"
   ]
  }
 ],
 "metadata": {
  "kernelspec": {
   "display_name": "Python 3",
   "language": "python",
   "name": "python3"
  },
  "language_info": {
   "codemirror_mode": {
    "name": "ipython",
    "version": 3
   },
   "file_extension": ".py",
   "mimetype": "text/x-python",
   "name": "python",
   "nbconvert_exporter": "python",
   "pygments_lexer": "ipython3",
   "version": "3.8.6"
  }
 },
 "nbformat": 4,
 "nbformat_minor": 5
}
